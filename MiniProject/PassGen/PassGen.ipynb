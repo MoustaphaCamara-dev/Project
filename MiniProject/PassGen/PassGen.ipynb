{
 "cells": [
  {
   "cell_type": "code",
   "execution_count": 2,
   "id": "0f1a1b27",
   "metadata": {},
   "outputs": [],
   "source": [
    "#librairie a importer\n",
    "import random\n",
    "from tkinter import *\n"
   ]
  },
  {
   "cell_type": "code",
   "execution_count": 3,
   "id": "6f0caf24",
   "metadata": {},
   "outputs": [
    {
     "name": "stdout",
     "output_type": "stream",
     "text": [
      "17958597\n",
      "augmenter le nombre de caractere generer\n"
     ]
    }
   ],
   "source": [
    "\n",
    "\n",
    "def mdp_alea_chiffre(nbr):\n",
    "\tif nbr==0:\n",
    "\t\treturn 'augmenter le nombre de caractere generer'\n",
    "\tmdp=''\n",
    "\tfor i in range(nbr):\n",
    "\t\tmdp=mdp+str(random.randint(0, 9))\n",
    "\treturn mdp\n",
    "print(mdp_alea_chiffre(8))\n",
    "print(mdp_alea_chiffre(0))"
   ]
  },
  {
   "cell_type": "code",
   "execution_count": 4,
   "id": "d5759d72",
   "metadata": {},
   "outputs": [
    {
     "name": "stdout",
     "output_type": "stream",
     "text": [
      "urdkzpzm\n"
     ]
    }
   ],
   "source": [
    "def mdp_alea_min(nbr):\n",
    "    mdp=''\n",
    "    for i in range(nbr):\n",
    "        mdp=mdp+chr(random.randint(97, 122))\n",
    "    return mdp\n",
    "  \n",
    "print(mdp_alea_min(8))"
   ]
  },
  {
   "cell_type": "code",
   "execution_count": 5,
   "id": "c2b6e8f8",
   "metadata": {},
   "outputs": [
    {
     "name": "stdout",
     "output_type": "stream",
     "text": [
      "KOCGXSKU\n"
     ]
    }
   ],
   "source": [
    "def mdp_alea_maj(nbr):\n",
    "    mdp=''\n",
    "    for i in range(nbr):\n",
    "        mdp=mdp+chr(random.randint(65, 90))\n",
    "    return mdp\n",
    "\n",
    "print(mdp_alea_maj(8))"
   ]
  },
  {
   "cell_type": "code",
   "execution_count": 6,
   "id": "0a31fdf7",
   "metadata": {},
   "outputs": [],
   "source": [
    "def mdp_alea_partiel(nbr):\n",
    "    mdp=''\n",
    "    for i in range(nbr):\n",
    "        x=random.randint(1,3)\n",
    "        if x==1:\n",
    "            mdp=mdp+chr(random.randint(65, 90))\n",
    "        elif x==2:\n",
    "        \tmdp=mdp+chr(random.randint(97, 122)) \n",
    "        else:\n",
    "            mdp=mdp+str(random.randint(0, 9))\n",
    "   \n",
    "    return mdp"
   ]
  },
  {
   "cell_type": "code",
   "execution_count": 7,
   "id": "469d796e",
   "metadata": {},
   "outputs": [
    {
     "name": "stdout",
     "output_type": "stream",
     "text": [
      "IWqG0vHb\n",
      "PdqV8NYNui36e27\n"
     ]
    }
   ],
   "source": [
    "print(mdp_alea_partiel(8))\n",
    "print(mdp_alea_partiel(15))"
   ]
  },
  {
   "cell_type": "code",
   "execution_count": 8,
   "id": "0535b0ae",
   "metadata": {},
   "outputs": [],
   "source": [
    "def mdp_alea_final(nbr,mini,maj,chi):\n",
    "    if mini is False and maj is False and chi is False:\n",
    "        return 'activer un parametre'\n",
    "    if nbr==0:\n",
    "        return 'augmenter le nombre de caractere generer'\n",
    "    if mini is True and maj is False and chi is False:\n",
    "        return mdp_alea_min(nbr)\n",
    "    elif mini is False and maj is True and chi is False:\n",
    "        return mdp_alea_maj(nbr)\n",
    "    elif mini is False and maj is False and chi is True:\n",
    "        return mdp_alea_chiffre(nbr)\n",
    "    elif mini is True and maj is True and chi is True:\n",
    "        return mdp_alea_partiel(nbr)\n",
    "    elif mini is True and maj is True and chi is False:\n",
    "        mdp=''\n",
    "        for i in range(nbr):\n",
    "            x=random.randint(1,2)\n",
    "            if x==1:\n",
    "                mdp=mdp+chr(random.randint(65, 90))\n",
    "            else:\n",
    "                mdp=mdp+chr(random.randint(97, 122))\n",
    "        return mdp\n",
    "    elif mini is True and maj is False and chi is True:\n",
    "        mdp=''\n",
    "        for i in range(nbr):\n",
    "            x=random.randint(1,2)\n",
    "            if x==1:\n",
    "                mdp=mdp+str(random.randint(0, 9))\n",
    "            else:\n",
    "                mdp=mdp+chr(random.randint(97, 122))\n",
    "        return mdp\n",
    "    elif mini is False and maj is True and chi is True:\n",
    "        mdp=''\n",
    "        for i in range(nbr):\n",
    "            x=random.randint(1,2)\n",
    "            if x==1:\n",
    "                mdp=mdp+str(random.randint(0, 9))\n",
    "            else:\n",
    "                mdp=mdp+chr(random.randint(65, 90))\n",
    "        return mdp\n",
    "    "
   ]
  },
  {
   "cell_type": "code",
   "execution_count": 13,
   "id": "9b867697",
   "metadata": {},
   "outputs": [
    {
     "name": "stdout",
     "output_type": "stream",
     "text": [
      "activer un parametre\n",
      "gtnbdazpnw\n",
      "QPKKGERWIB\n",
      "7709935897\n",
      "5ywU624J0b\n",
      "vrealeBtTQ\n",
      "kpv8769cjv\n",
      "94EYN8EE0N\n"
     ]
    }
   ],
   "source": [
    "print(mdp_alea_final(10,False,False,False))\n",
    "print(mdp_alea_final(10,True,False,False))\n",
    "print(mdp_alea_final(10,False,True,False))\n",
    "print(mdp_alea_final(10,False,False,True))\n",
    "print(mdp_alea_final(10,True,True,True))\n",
    "print(mdp_alea_final(10,True,True,False))\n",
    "print(mdp_alea_final(10,True,False,True))\n",
    "print(mdp_alea_final(10,False,True,True))"
   ]
  },
  {
   "cell_type": "code",
   "execution_count": 12,
   "id": "0e332460",
   "metadata": {},
   "outputs": [],
   "source": [
    "win = Tk()\n",
    "win.title(\"PassGen\")\n",
    "win.geometry(\"800x600\")\n",
    "win.minsize(800,600)\n",
    "win.maxsize(800,600)\n",
    "win.iconbitmap(\"up.ico\")\n",
    "win.config(background=\"#190016\")\n",
    "titre = Label(win,text=\"Pass\", font =(\"Courrier\",40),bg=\"#190016\",fg=\"#9D427A\")\n",
    "titre2 = Label(win,text=\"GEN\", font =(\"Courrier\",48),bg=\"#190016\",fg=\"#420039\")\n",
    "titre.pack()\n",
    "titre2.pack()\n",
    "\n",
    "\n",
    " \n",
    "\n",
    "\n",
    "\n",
    "\n",
    "\n",
    "\n",
    "win.mainloop()\n"
   ]
  },
  {
   "cell_type": "code",
   "execution_count": null,
   "id": "49f9c589",
   "metadata": {},
   "outputs": [],
   "source": []
  },
  {
   "cell_type": "code",
   "execution_count": null,
   "id": "1f9a029c",
   "metadata": {},
   "outputs": [],
   "source": []
  },
  {
   "cell_type": "code",
   "execution_count": null,
   "id": "21b387f1",
   "metadata": {},
   "outputs": [],
   "source": []
  }
 ],
 "metadata": {
  "kernelspec": {
   "display_name": "Python 3",
   "language": "python",
   "name": "python3"
  },
  "language_info": {
   "codemirror_mode": {
    "name": "ipython",
    "version": 3
   },
   "file_extension": ".py",
   "mimetype": "text/x-python",
   "name": "python",
   "nbconvert_exporter": "python",
   "pygments_lexer": "ipython3",
   "version": "3.8.8"
  }
 },
 "nbformat": 4,
 "nbformat_minor": 5
}
